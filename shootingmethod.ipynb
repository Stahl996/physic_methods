{
 "cells": [
  {
   "cell_type": "markdown",
   "metadata": {},
   "source": [
    "# Shooting method\n",
    "\n",
    "In the following program, we will proceed to make the solution of the following equation through the trigger method.\n",
    "\n",
    "$\\ddot{x} = y(t) + v(t) + w(t)\\dot{x}$\n",
    "\n",
    "The initial values chosen are the following shown below\n",
    "\n",
    "$x(t(0)) = 1$  ;  $x(t(250)) = 3.29$\n"
   ]
  },
  {
   "cell_type": "code",
   "execution_count": 1,
   "metadata": {},
   "outputs": [],
   "source": [
    "#First, the necessary files are imported\n",
    "\n",
    "from numpy import *\n",
    "from pylab import *"
   ]
  },
  {
   "cell_type": "code",
   "execution_count": 2,
   "metadata": {},
   "outputs": [],
   "source": [
    "class MetodoDisparo ():\n",
    "    \n",
    "    def __init__(self,a,b,z1,z2,t,error):\n",
    "        \n",
    "        #The parameters that will be constant are defined\n",
    "        self.t = t\n",
    "        self.valoriniciala = a\n",
    "        self.valorinicialb = b\n",
    "        self.z1 = z1\n",
    "        self.z2 = z2\n",
    "        self.error = error\n",
    "        self.n = len( t )\n",
    "        \n",
    "        \n",
    "    #The problem function is defined\n",
    "    def funcion(self,t,x):\n",
    "        \n",
    "        return array([x[1], x[0]+4*exp(t)])\n",
    "    \n",
    "    #Runge-Kutta method for the trigger method\n",
    "    def metodoRungeKutta(self,xinicial,valoresx):\n",
    "        \n",
    "        valoresy = array([xinicial]*self.n)\n",
    "        \n",
    "        for j in range (self.n - 1):\n",
    "            \n",
    "            h = valoresx[j + 1] - valoresx[j]\n",
    "            k1 = self.funcion(valoresx[j],valoresy[j]) #K1\n",
    "            k2 = self.funcion(valoresx[j] + 1/2*h,valoresy[j] + 1/2*h*k1) #K2\n",
    "            k3 = self.funcion(valoresx[j] + 1/2*h,valoresy[j] + 1/2*h*k2) #K3\n",
    "            k4 = self.funcion(valoresx[j] + h,valoresy[j] + h*k3) #K4\n",
    "            \n",
    "            valoresx[j + 1] = valoresx[j] + h\n",
    "            valoresy[j + 1] = valoresy[j] + h/6*(k1 + 2*(k2 + k3) + k4)\n",
    "            \n",
    "        \n",
    "        return valoresy\n",
    "    \n",
    "    #A function is defined to apply the method with the maximum desired iterations\n",
    "    def solEDOS (self,maximo):\n",
    "        \n",
    "        #An initialization is done for the first part of the problem\n",
    "        y = self.metodoRungeKutta([self.valoriniciala,self.z1],self.t)\n",
    "        w1 = y[self.n-1,0]\n",
    "        \n",
    "        #We proceed to use the Runge-Kutta method to solve the equation\n",
    "        for i in arange(maximo):\n",
    "            \n",
    "            y = self.metodoRungeKutta([self.valoriniciala,self.z2],self.t)\n",
    "            w2 = y[self.n-1,0]\n",
    "            \n",
    "            #It is checked if we are at the minimum error threshold imposed on the problem\n",
    "            if abs(self.valorinicialb - w2) < self.error:\n",
    "                break\n",
    "            \n",
    "            #We calculate the new values for z1 and z2 for the following itinerary\n",
    "            self.z1, self.z2 = ( self.z2, self.z2 + ( self.z2 - self.z1 )/( w2 - w1 ) * (self.valorinicialb - w2))\n",
    "            w1 = w2\n",
    "        \n",
    "        return y[:,0]\n",
    "        \n",
    "        "
   ]
  },
  {
   "cell_type": "code",
   "execution_count": 3,
   "metadata": {},
   "outputs": [
    {
     "data": {
      "image/png": "[encoded data removed]",
      "text/plain": [
       "<matplotlib.figure.Figure at 0x23ffd65fd68>"
      ]
     },
     "metadata": {},
     "output_type": "display_data"
    }
   ],
   "source": [
    "#The initial values of the method are imposed\n",
    "a = 0.0\n",
    "b = 0.5\n",
    "t = linspace( a, b, 128)\n",
    "\n",
    "#We proceed to initialize the class where the method is located\n",
    "ejemplo = MetodoDisparo(exp(a),2*exp(b),3.0,4.0,t,1e-5)\n",
    "solucion = ejemplo.solEDOS(128)\n",
    "\n",
    "#Now we proceed to graph the values of the graph\n",
    "plot( t,solucion,'ro')\n",
    "draw()\n",
    "\n"
   ]
  },
  {
   "cell_type": "code",
   "execution_count": null,
   "metadata": {},
   "outputs": [],
   "source": []
  }
 ],
 "metadata": {
  "kernelspec": {
   "display_name": "Python 3",
   "language": "python",
   "name": "python3"
  },
  "language_info": {
   "codemirror_mode": {
    "name": "ipython",
    "version": 3
   },
   "file_extension": ".py",
   "mimetype": "text/x-python",
   "name": "python",
   "nbconvert_exporter": "python",
   "pygments_lexer": "ipython3",
   "version": "3.6.4"
  }
 },
 "nbformat": 4,
 "nbformat_minor": 2
}
