{
 "cells": [
  {
   "cell_type": "code",
   "execution_count": 38,
   "metadata": {
    "collapsed": true
   },
   "outputs": [],
   "source": [
    "#Se importan las librerias que serán usadas\n",
    "from pylab import *\n",
    "from numpy import *\n",
    "from math import factorial \n"
   ]
  },
  {
   "cell_type": "code",
   "execution_count": 39,
   "metadata": {
    "collapsed": false
   },
   "outputs": [],
   "source": [
    "#Definimos una clase para unificar ambos métodos de interpolación\n",
    "-\n",
    "    \n",
    "    #Función de diferencias divididas\n",
    "    def difDivididas(self):\n",
    "        \n",
    "        #Se crea la variable donde se mete los calculos\n",
    "        dif = zeros((len(self.xi),len(self.xi)))\n",
    "        \n",
    "        #Se procede a meter en la columna de 0 de la matriz los nodos en la coordenada y\n",
    "        dif[:,0] = self.yi\n",
    "        \n",
    "        #Se hace un bucle que empiece en el indice 1 hasta recorrer todos los nodos conocidos\n",
    "        for i in range(1,len(self.xi)):\n",
    "            \n",
    "            #Se hace un recorrido desde el indice i dado por el bucle anterior hasta recorrer todo el array\n",
    "            for j in range(i,len(self.xi)):\n",
    "                \n",
    "                #Se hace el calculo de la diferencial dividida y se guarda en el array\n",
    "                dif[j][i] = ((dif[j][i-1]-dif[j-1][i-1]) / (self.xi[j]- self.xi[j-i]))\n",
    "                \n",
    "        return dif\n",
    "    \n",
    "    #Función de interpolación por el método de Newton\n",
    "    def newton(self):\n",
    "        \n",
    "        #En primer lugar, llamamos a la función diferenciales divididas para calcular los valores\n",
    "        dif = self.difDivididas();\n",
    "        \n",
    "        y = zeros(len(self.x)) #Se crea una variable para ir guardando la interpolación hecha\n",
    "        \n",
    "        #Con el bucle for, se procede a pasar por todos los puntos a interpolar\n",
    "        for i in range(len(self.x)):\n",
    "            \n",
    "            #Este otro bucle, lo que hace es pasar por todos los nodos conocidos\n",
    "            for j in range(len(self.xi)):\n",
    "                \n",
    "                aprox = dif[j,j] #De la variable dif, se escoje el valor que se necesita para hacer el calculo\n",
    "                \n",
    "                #El último bucle, procede a pasar todos los puntos para el calculo\n",
    "                for k in range(1,j+1):\n",
    "                    \n",
    "                    aprox = aprox * (self.x[i] - self.xi[k-1])\n",
    "                \n",
    "                y[i] = y[i] + aprox #Se guarda en la variable final el valor ya calculado\n",
    "            \n",
    "        return y \n",
    "        \n",
    "    #Función para el calculo del error de la interpolación en cada punto\n",
    "    def error(self):\n",
    "        \n",
    "        #Se crea la variable donde de guardara el error de cada punto interpolado\n",
    "        error = ones(len(self.x))\n",
    "        \n",
    "        #Se llama a la función de diferencial dividida\n",
    "        dif = self.difDivididas();\n",
    "        \n",
    "        #Con un bucle, se procede a calcular el error en los puntos en que se hace la interpolación\n",
    "        for k in range(len(self.x)):\n",
    "            \n",
    "            #Se crea un array para el calculo del numerador\n",
    "            num = ones(len(self.xi))\n",
    "            \n",
    "            #Se procede a hacer un bucle para pasar por los nodos\n",
    "            for i in range(len(self.xi)):\n",
    "                num[i] = (self.x[k] -self.xi[i])*dif[i,i]\n",
    "            \n",
    "            #Se procede a calcular y a guardar en un array el error de ese punto\n",
    "            error[k] = abs(prod(num)/factorial(len(self.xi) + 1))\n",
    "            \n",
    "        return error\n",
    "            \n",
    "    \n"
   ]
  },
  {
   "cell_type": "code",
   "execution_count": 40,
   "metadata": {
    "collapsed": false,
    "scrolled": true
   },
   "outputs": [
    {
     "name": "stdout",
     "output_type": "stream",
     "text": [
      "1000 loops, best of 3: 441 µs per loop\n",
      "10 loops, best of 3: 43.9 ms per loop\n"
     ]
    },
    {
     "data": {
      "image/png": "[encoded data removed]",
      "text/plain": [
       "<matplotlib.figure.Figure at 0x1c03a6a6b00>"
      ]
     },
     "metadata": {},
     "output_type": "display_data"
    }
   ],
   "source": [
    "\n",
    "#Se procede a calcular una serie de nodos de prueba en x y se calcula su valor en y\n",
    "max = 5.0\n",
    "xs = linspace(0.1, max, 20)   #abcisas\n",
    "ys = sin(xs) #ordenadas\n",
    "\n",
    "#Se procede a evaluar el polinomio en un número determinado de puntos\n",
    "xx = linspace(0.0, max, 500)\n",
    "\n",
    "prueba = interpolacion (xs,ys,xx)\n",
    "\n",
    "#Llamamos a la funcion con los parametros adecuados y medimos el tiempo\n",
    "%timeit -c prueba.lagrange()\n",
    "%timeit -c prueba.newton()\n",
    "\n",
    "#Se muestra la grafica con la interpolación de Lagrange\n",
    "ax = subplot(121)\n",
    "title(\"Interpolacion Lagrange\")\n",
    "ax.plot(xs, ys, 'ro')\n",
    "ax.set_xlim((0, max))\n",
    "ax.plot(xx, prueba.lagrange(), '-g')\n",
    "\n",
    "#Se muestra la gráfica con la interpolacion de Newton\n",
    "bx = subplot(122)\n",
    "title(\"Interpolacion Newton\")\n",
    "bx.plot(xs, ys, 'ro')\n",
    "bx.set_xlim((0, max))\n",
    "bx.plot(xx, prueba.newton(), '-b')\n",
    "    \n",
    "show()\n",
    "\n"
   ]
  },
  {
   "cell_type": "code",
   "execution_count": null,
   "metadata": {
    "collapsed": true
   },
   "outputs": [],
   "source": []
  },
  {
   "cell_type": "code",
   "execution_count": null,
   "metadata": {
    "collapsed": true
   },
   "outputs": [],
   "source": []
  }
 ],
 "metadata": {
  "kernelspec": {
   "display_name": "Python 3",
   "language": "python",
   "name": "python3"
  },
  "language_info": {
   "codemirror_mode": {
    "name": "ipython",
    "version": 3
   },
   "file_extension": ".py",
   "mimetype": "text/x-python",
   "name": "python",
   "nbconvert_exporter": "python",
   "pygments_lexer": "ipython3",
   "version": "3.6.0"
  }
 },
 "nbformat": 4,
 "nbformat_minor": 2
}
