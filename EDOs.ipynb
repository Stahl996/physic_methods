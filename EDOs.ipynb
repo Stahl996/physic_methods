{
 "cells": [
  {
   "cell_type": "code",
   "execution_count": null,
   "metadata": {
    "collapsed": true
   },
   "outputs": [],
   "source": []
  },
  {
   "cell_type": "markdown",
   "metadata": {
    "collapsed": true
   },
   "source": [
    "## Different functions to calculate a partial derivative equation\n",
    "\n",
    "\n",
    "Here are different methods for how to calculate an equation in partial derivatives when it is difficult to solve or impossible doing it by approximation"
   ]
  },
  {
   "cell_type": "code",
   "execution_count": 25,
   "metadata": {},
   "outputs": [],
   "source": [
    "from numpy import *\n",
    "from pylab import *\n",
    "\n",
    "class EDOS:\n",
    "    \n",
    "    def __init__(self,x_i,y_i,omega):\n",
    "        \n",
    "        #Intial values known in the EDOS\n",
    "        self.valoresx = [x_i]\n",
    "        self.valoresy = [y_i]\n",
    "        \n",
    "        self.omega = omega\n",
    "  \n",
    "\n",
    "\n",
    "    #EDOS equation to solve\n",
    "    def funcion(self,x,y):\n",
    "        \n",
    "        deriv = zeros(2)\n",
    "        \n",
    "        deriv[0] = y[1]\n",
    "        deriv[1] = -1.0*self.omega**2*y[0]\n",
    "        \n",
    "        return deriv\n",
    "    \n",
    "    \n",
    "    \n",
    "    #Function for Euler Method \n",
    "    def metodoEuler(self,h):       \n",
    "                 \n",
    "        contador = 0\n",
    "                 \n",
    "        for j in arange (0,3,0.01):\n",
    "            \n",
    "            self.valoresx.append(self.valoresx[contador] + h)\n",
    "            self.valoresy.append(self.valoresy[contador] + h*self.funcion(self.valoresx[contador],self.valoresy[contador]))\n",
    "            \n",
    "            contador += 1\n",
    "        \n",
    "        return array(self.valoresx),array(self.valoresy)\n",
    "    \n",
    "    \n",
    "    \n",
    "    #Function Modified Euler Method\n",
    "    def metodoEulerMejorado(self,h):\n",
    "        \n",
    "        contador = 0\n",
    "        \n",
    "        for j in arange (0,3,0.01):\n",
    "            \n",
    "            self.valoresx.append(self.valoresx[contador] + h)\n",
    "            \n",
    "            y_o = self.valoresy[contador] + h*self.funcion(self.valoresx[contador],self.valoresy[contador])\n",
    "            self.valoresy.append(self.valoresy[contador] + h/2*(self.funcion(self.valoresx[contador],self.valoresy[contador]) + self.funcion(self.valoresx,y_o)))                                        \n",
    "            \n",
    "            contador += 1\n",
    "            \n",
    "        return array(self.valoresx),array(self.valoresy)\n",
    "    \n",
    "    \n",
    "    #Function for Improved Euler Method\n",
    "    def metodoEulerModificado(self,h):\n",
    "        \n",
    "        contador = 0\n",
    "        \n",
    "        for j in arange (0,3,0.01):\n",
    "            \n",
    "            self.valoresx.append(self.valoresx[contador] + h)\n",
    "            \n",
    "            y_o = self.valoresy[contador] + h/2*self.funcion(self.valoresx[contador],self.valoresy[contador])\n",
    "            self.valoresy.append(self.valoresy[contador] + h*self.funcion(h/2+self.valoresx[contador],y_o))\n",
    "            \n",
    "            contador += 1\n",
    "            \n",
    "        return array(self.valoresx),array(self.valoresy)\n",
    "    \n",
    "    #Function for the Runge-Kutta Method\n",
    "    def metodoRungeKutta(self,h):\n",
    "        \n",
    "        contador = 0\n",
    "        \n",
    "        for j in arange (0,3,0.01):\n",
    "            \n",
    "            k1 = self.funcion(self.valoresx[contador],self.valoresy[contador]) #K1\n",
    "            k2 = self.funcion(self.valoresx[contador] + 1/2*h,self.valoresy[contador] + 1/2*h*k1) #K2\n",
    "            k3 = self.funcion(self.valoresx[contador] + 1/2*h,self.valoresy[contador] + 1/2*h*k2) #K3\n",
    "            k4 = self.funcion(self.valoresx[contador] + h,self.valoresy[contador] + h*k3) #K4\n",
    "            \n",
    "            self.valoresx.append(self.valoresx[contador] + h)\n",
    "            self.valoresy.append(self.valoresy[contador] + h/6*(k1 + 2*k2 + 2*k3 + k4))\n",
    "            \n",
    "            contador += 1\n",
    "            \n",
    "        \n",
    "        return array(self.valoresx),array(self.valoresy)\n",
    "    "
   ]
  },
  {
   "cell_type": "code",
   "execution_count": 26,
   "metadata": {},
   "outputs": [
    {
     "data": {
      "image/png": "[encoded data removed]",
      "text/plain": [
       "<matplotlib.figure.Figure at 0x1a377de1fd0>"
      ]
     },
     "metadata": {},
     "output_type": "display_data"
    }
   ],
   "source": [
    "y_i = array([10.0,0.0])\n",
    "ecuacion1 = EDOS(0.0,y_i,4.0)\n",
    "\n",
    "#x,y = ecuacion1.metodoEuler(0.01)\n",
    "#x,y = ecuacion1.metodoEulerMejorado(0.01)\n",
    "#x,y = ecuacion1.metodoEulerModificado(0.01)\n",
    "x,y = ecuacion1.metodoRungeKutta(0.01)\n",
    "\n",
    "plot(x,y)\n",
    "\n",
    "show()"
   ]
  },
  {
   "cell_type": "code",
   "execution_count": null,
   "metadata": {},
   "outputs": [],
   "source": []
  }
 ],
 "metadata": {
  "kernelspec": {
   "display_name": "Python 3",
   "language": "python",
   "name": "python3"
  },
  "language_info": {
   "codemirror_mode": {
    "name": "ipython",
    "version": 3
   },
   "file_extension": ".py",
   "mimetype": "text/x-python",
   "name": "python",
   "nbconvert_exporter": "python",
   "pygments_lexer": "ipython3",
   "version": "3.6.4"
  }
 },
 "nbformat": 4,
 "nbformat_minor": 2
}
