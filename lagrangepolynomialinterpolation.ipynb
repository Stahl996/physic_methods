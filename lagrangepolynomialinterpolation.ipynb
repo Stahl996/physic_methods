{
 "cells": [
  {
   "cell_type": "markdown",
   "metadata": {},
   "source": [
    "# Lagrange polynomial interpolation\n",
    "\n",
    "We start from the regular expression of the Lagrange interpolation\n",
    "\n",
    "$p_n(x) = \\sum\\limits_{i=0}^{n} f(x_i)l_{in}(x)$ &nbsp; &nbsp; &nbsp; &nbsp;    (1)\n",
    "\n",
    "where\n",
    "\n",
    "$l_{in} (x) = \\frac{x-x_0}{x_i-x_0}\\frac{x-x_1}{x_i-x_1}\\dots\\frac{x-x_{i-1}}{x_i-x_{i-1}}\\frac{x-x_{i+1}}{x_i-x_{i+1}}\\dots\\frac{x-x_n}{x_i-x_n}\\ = \\prod\\limits_{\\substack{j=0 \\\\ j\\neq i}}^{n} \\frac{x-x_j}{x_i-x_j}$ &nbsp; &nbsp; &nbsp; &nbsp;    (2)\n",
    "\n",
    "We define the function $w(x)$:\n",
    "\n",
    "$w(x) = (x-x_0)(x-x_1)\\dots(x-x_n) = \\prod\\limits_{i=0}^{n}(x-x_i)$ &nbsp; &nbsp; &nbsp; &nbsp;    (3)\n",
    "\n",
    "and we define $\\beta_i$ como\n",
    "\n",
    "$\\beta_i = \\frac{1}{\\prod\\limits_{\\substack{j=0 \\\\ j\\neq i}}^{n}(x_i-x_j)}, i=0, 1, \\dots , n$ &nbsp; &nbsp; &nbsp; &nbsp; (4)\n",
    "\n",
    "so that we can rewrite the polynomials $l_{in}(x)$ as:\n",
    "\n",
    "$l_{in} (x) = \\prod\\limits_{\\substack{j=0 \\\\ j\\neq i}}^{n} \\frac{x-x_j}{x_i-x_j} \\frac{\\prod\\limits_{\\substack{j=0 \\\\ j\\neq i}}^{n}(x-x_j)}{\\prod\\limits_{\\substack{j=0 \\\\ j\\neq i}}^{n}(x_i-x_j)} = \\frac{w(x)\\beta_i}{x-x_i}$ &nbsp; &nbsp; &nbsp; &nbsp; (5)\n",
    "\n",
    "Thus, we can express the interpolating polynomial of degree n in the form:\n",
    "\n",
    "$p_n(x) = w(x) \\sum\\limits_{i=0}^{n}\\frac{\\beta_i f(x_i)}{x-x_i} $ &nbsp; &nbsp; &nbsp; &nbsp; (6)\n",
    "\n",
    "Suppose we interpolate the unit function $f(x) = 1$, así que $f(x_i)=1, i=0,i,..., n$. Substituting in the previous equation:\n",
    "\n",
    "$1 = w(x) \\sum\\limits_{i=0}^{n}\\frac{\\beta_i\\cdot 1}{x-x_i} $ &nbsp; &nbsp; &nbsp; &nbsp; (7)\n",
    "\n",
    "Since it is \"1\", we divide equation (6) by (7):\n",
    "\n",
    "$p_n(x) = \\frac{w(x) \\sum\\limits_{i=0}^{n}\\frac{\\beta_i f(x_i)}{x-x_i}}{w(x) \\sum\\limits_{i=0}^{n}\\frac{\\beta_i}{x-x_i}} $ &nbsp; &nbsp; &nbsp; &nbsp; (8)\n",
    "\n",
    "And we get the final expression for the interpolating polynomial:\n",
    "\n",
    "$p_n(x) = \\frac{\\sum\\limits_{i=0}^{n}\\frac{\\beta_i f(x_i)}{x-x_i}}{\\sum\\limits_{i=0}^{n}\\frac{\\beta_i}{x-x_i}} $ &nbsp; &nbsp; &nbsp; &nbsp; (9)\n",
    "\n",
    "The coefficients $ \\ beta_i $ can be calculated in advance and the evaluation of the polynomial has been reduced to much simpler operations. Just take into account situations where $ x = x_i, i = 0,1, \\ dots, n $. In those cases $ p_n (x_i) = f (x_i) $."
   ]
  },
  {
   "cell_type": "code",
   "execution_count": 1,
   "metadata": {},
   "outputs": [],
   "source": [
    "import numpy as np\n",
    "import matplotlib.pyplot as plt"
   ]
  },
  {
   "cell_type": "markdown",
   "metadata": {},
   "source": [
    "## Implementation with explicit loops\n",
    "\n",
    "First, the interpolation function is designed by coding each part of the method using easily recognizable loops, which, in many cases, makes the code easier to interpret.\n"
   ]
  },
  {
   "cell_type": "code",
   "execution_count": 2,
   "metadata": {},
   "outputs": [],
   "source": [
    "def LagrangeBariLoops(xi, yi, x):\n",
    "    #xi -> vector of the abscissa of the known points\n",
    "    #yi -> vector de las ordenadas de los puntos conocidos\n",
    "    #x -> vector of the abscissa of the points to be evaluated by the interpolating polynomial\n",
    "    \n",
    "    n = len(xi)\n",
    "    y = np.zeros(len(x))  #vector that stores the result y [x], interpolated values\n",
    "    \n",
    "    #We calculate the beta_i\n",
    "    beta = np.ones(n) # At the beginning all beta_i are 1, to calculate the product    \n",
    "    for i in range(n):\n",
    "        for j in range(n):\n",
    "            if i!=j:     #only if the indices are different (as it appears in equation (4))\n",
    "                beta[i] = beta[i]/(xi[i]-xi[j])\n",
    "        \n",
    "    #We see if any value of x coincides with any of xi, to avoid indeterminacies (divide by 0)\n",
    "    prohibidos = []   #stores the x-indices that cannot be evaluated by polynonium\n",
    "\n",
    "    #You have to go through all the elements to find matches\n",
    "    for k in range(len(x)):  #for all possible values of x\n",
    "        coincide = False   #I guess, in principle it doesn't match\n",
    "        for i in range(n):\n",
    "            \n",
    "            if x[k]==xi[i]: \n",
    "                coincide = True\n",
    "                y[k] = yi[i] #is an interpolation node, so we know the value of the ordinate\n",
    "                break   #and I don't keep looking\n",
    "                \n",
    "        prohibidos.append(coincide)\n",
    "    \n",
    "    #Evaluate numerator and denominator of equation (9) for each point to be interpolated\n",
    "    for k in range(len(x)-1):  \n",
    "        if prohibidos[k]==False: \n",
    "            \n",
    "            num=0.0  \n",
    "            den=0.0  \n",
    "            \n",
    "            for i in range(n):\n",
    "                num = num + beta[i]*yi[i]/(x[k]-xi[i])\n",
    "                den = den + beta[i]/(x[k]-xi[i])\n",
    "                \n",
    "            y[k] = num/den\n",
    "    \n",
    "    return y"
   ]
  },
  {
   "cell_type": "markdown",
   "metadata": {},
   "source": [
    "## Using methods and array operations\n",
    "\n",
    "In this case, we will take advantage of the power of some methods defined in Numpy that speed up the calculation of operations (divisions, sums, etc.) between matrices or vectors, element by element, as well as proper methods for operations between all elements within an array. ."
   ]
  },
  {
   "cell_type": "code",
   "execution_count": 3,
   "metadata": {},
   "outputs": [],
   "source": [
    "def LagrangeBari(xi, yi, x):\n",
    "    #xi -> vector of the abscissa of the known points\n",
    "    #yi -> vector de las ordenadas de los puntos conocidos\n",
    "    #x -> vector of the abscissa of the points to be evaluated by the interpolating polynomial\n",
    "    \n",
    "    n = len(xi)\n",
    "    y = np.zeros(len(x))  # vector that stores the result y [x], interpolated values\n",
    "    \n",
    "    #Calculamos las beta_i\n",
    "    beta = np.zeros(n)\n",
    "    for i in range(n):\n",
    "        ind = np.arange(n)!=i  #tomamos todos los indices de 0 a n, excepto el i\n",
    "        beta[i] = 1./np.prod(xi[i]-xi[ind])\n",
    "        \n",
    "    #We see if any value of x coincides with any of xi, to avoid indeterminacies\n",
    "    prohibidos = []\n",
    "    for i in range(n):\n",
    "        Dx = x - xi[i]\n",
    "        coincide = np.where(Dx == 0)[0]\n",
    "        \n",
    "        if len(coincide>0):\n",
    "            prohibidos.append(coincide[0])\n",
    "            y[coincide[0]] = yi[i]\n",
    "\n",
    "    permitidos = np.arange(len(x))!=prohibidos\n",
    "    \n",
    "    #We evaluate the numerator and denominator of equation (9)\n",
    "    num = np.zeros(len(x))\n",
    "    den = np.zeros(len(x))\n",
    "    \n",
    "    for i in range(n):\n",
    "        num[permitidos] = num[permitidos] + beta[i]*yi[i]/(x[permitidos]-xi[i])\n",
    "        den[permitidos] = den[permitidos] + beta[i]/(x[permitidos]-xi[i])\n",
    "        \n",
    "    y[permitidos] = num[permitidos]/den[permitidos]\n",
    "    \n",
    "    return y\n",
    "        "
   ]
  },
  {
   "cell_type": "markdown",
   "metadata": {},
   "source": [
    "We will perform a basic test of interpolation of an exponential function"
   ]
  },
  {
   "cell_type": "code",
   "execution_count": 4,
   "metadata": {},
   "outputs": [
    {
     "name": "stdout",
     "output_type": "stream",
     "text": [
      "Calculation with explicit loops\n",
      "4.18 ms ± 629 µs per loop (mean ± std. dev. of 7 runs, 100 loops each)\n",
      "Calculation with some optimizations\n",
      "155 µs ± 5.68 µs per loop (mean ± std. dev. of 7 runs, 10000 loops each)\n"
     ]
    },
    {
     "data": {
      "image/png": "[encoded data removed]",
      "text/plain": [
       "<matplotlib.figure.Figure at 0x2569e94ce80>"
      ]
     },
     "metadata": {},
     "output_type": "display_data"
    }
   ],
   "source": [
    "#We generate 5 points that follow an exponential function\n",
    "max = 2.0\n",
    "xs = np.linspace(0.1, max, 5)   \n",
    "ys = np.exp(xs)                  \n",
    "\n",
    "#We will evaluate the interpolating polynomial at 500 points\n",
    "xx = np.linspace(0.0, max, 500)\n",
    "\n",
    "\n",
    "\n",
    "#We call the functions with the appropriate parameters and measure the time\n",
    "print(\"Calculation with explicit loops\")\n",
    "%timeit -c yll = LagrangeBariLoops(xs,ys,xx)\n",
    "print(\"Calculation with some optimizations\")\n",
    "%timeit -c yl = LagrangeBari(xs,ys,xx)\n",
    "\n",
    "fig, ax = plt.subplots()\n",
    "ax.plot(xs, ys, 'ro')\n",
    "ax.set_xlim((0, max))\n",
    "#ax.plot(xx, yl, '-b',lw=4)\n",
    "#ax.plot(xx, y, '-g',lw=2)\n",
    "    \n",
    "plt.show()"
   ]
  },
  {
   "cell_type": "code",
   "execution_count": null,
   "metadata": {
    "collapsed": true
   },
   "outputs": [],
   "source": []
  }
 ],
 "metadata": {
  "kernelspec": {
   "display_name": "Python 3",
   "language": "python",
   "name": "python3"
  },
  "language_info": {
   "codemirror_mode": {
    "name": "ipython",
    "version": 3
   },
   "file_extension": ".py",
   "mimetype": "text/x-python",
   "name": "python",
   "nbconvert_exporter": "python",
   "pygments_lexer": "ipython3",
   "version": "3.6.4"
  }
 },
 "nbformat": 4,
 "nbformat_minor": 2
}
